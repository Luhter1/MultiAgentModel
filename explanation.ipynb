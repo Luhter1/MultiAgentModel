{
 "cells": [
  {
   "cell_type": "code",
   "execution_count": 14,
   "metadata": {},
   "outputs": [],
   "source": [
    "import pandas as pd\n",
    "import matplotlib.pyplot as plt"
   ]
  },
  {
   "cell_type": "markdown",
   "metadata": {},
   "source": [
    "# Входные данные"
   ]
  },
  {
   "cell_type": "code",
   "execution_count": 15,
   "metadata": {},
   "outputs": [],
   "source": [
    "data = pd.read_csv(\"./data/2010_ver1_01001_synth_people.txt\", sep=\",\")"
   ]
  },
  {
   "cell_type": "markdown",
   "metadata": {},
   "source": [
    "Для агентного моделирования эпидемиологических явлений требуется представление популяции в виде файла, однако сбор реальных даннных о населении невозможен, поэтому используются синтетически генерируемые популяции, приближенные к реальным.  "
   ]
  },
  {
   "cell_type": "markdown",
   "metadata": {},
   "source": [
    "По стандартам RTIInternational синтетическая популяция состоит из '.txt' файла. Каждая ее строка соответствует индивиду из популяции."
   ]
  },
  {
   "cell_type": "markdown",
   "metadata": {},
   "source": [
    "Каждый из них описывается 11 параметрами: sp_id, sp_hh_id, serialno, stcotrbg, age, sex, race, sporder, relate, sp_school_id, sp_work_id"
   ]
  },
  {
   "cell_type": "code",
   "execution_count": 16,
   "metadata": {},
   "outputs": [
    {
     "data": {
      "text/html": [
       "<div>\n",
       "<style scoped>\n",
       "    .dataframe tbody tr th:only-of-type {\n",
       "        vertical-align: middle;\n",
       "    }\n",
       "\n",
       "    .dataframe tbody tr th {\n",
       "        vertical-align: top;\n",
       "    }\n",
       "\n",
       "    .dataframe thead th {\n",
       "        text-align: right;\n",
       "    }\n",
       "</style>\n",
       "<table border=\"1\" class=\"dataframe\">\n",
       "  <thead>\n",
       "    <tr style=\"text-align: right;\">\n",
       "      <th></th>\n",
       "      <th>sp_id</th>\n",
       "      <th>sp_hh_id</th>\n",
       "      <th>serialno</th>\n",
       "      <th>stcotrbg</th>\n",
       "      <th>age</th>\n",
       "      <th>sex</th>\n",
       "      <th>race</th>\n",
       "      <th>sporder</th>\n",
       "      <th>relate</th>\n",
       "      <th>sp_school_id</th>\n",
       "      <th>sp_work_id</th>\n",
       "    </tr>\n",
       "  </thead>\n",
       "  <tbody>\n",
       "    <tr>\n",
       "      <th>0</th>\n",
       "      <td>119493314</td>\n",
       "      <td>1575686</td>\n",
       "      <td>2007000006927</td>\n",
       "      <td>10010204001</td>\n",
       "      <td>49</td>\n",
       "      <td>1</td>\n",
       "      <td>1</td>\n",
       "      <td>2</td>\n",
       "      <td>1</td>\n",
       "      <td>NaN</td>\n",
       "      <td>500136309.0</td>\n",
       "    </tr>\n",
       "    <tr>\n",
       "      <th>1</th>\n",
       "      <td>119493315</td>\n",
       "      <td>1575686</td>\n",
       "      <td>2007000006927</td>\n",
       "      <td>10010204001</td>\n",
       "      <td>45</td>\n",
       "      <td>2</td>\n",
       "      <td>1</td>\n",
       "      <td>1</td>\n",
       "      <td>0</td>\n",
       "      <td>NaN</td>\n",
       "      <td>500143905.0</td>\n",
       "    </tr>\n",
       "    <tr>\n",
       "      <th>2</th>\n",
       "      <td>119493322</td>\n",
       "      <td>1586030</td>\n",
       "      <td>2007000006927</td>\n",
       "      <td>10010208022</td>\n",
       "      <td>6</td>\n",
       "      <td>2</td>\n",
       "      <td>1</td>\n",
       "      <td>3</td>\n",
       "      <td>2</td>\n",
       "      <td>450055504.0</td>\n",
       "      <td>NaN</td>\n",
       "    </tr>\n",
       "    <tr>\n",
       "      <th>3</th>\n",
       "      <td>119493323</td>\n",
       "      <td>1586030</td>\n",
       "      <td>2007000006927</td>\n",
       "      <td>10010208022</td>\n",
       "      <td>49</td>\n",
       "      <td>1</td>\n",
       "      <td>1</td>\n",
       "      <td>2</td>\n",
       "      <td>1</td>\n",
       "      <td>NaN</td>\n",
       "      <td>500109885.0</td>\n",
       "    </tr>\n",
       "    <tr>\n",
       "      <th>4</th>\n",
       "      <td>119493324</td>\n",
       "      <td>1586030</td>\n",
       "      <td>2007000006927</td>\n",
       "      <td>10010208022</td>\n",
       "      <td>45</td>\n",
       "      <td>2</td>\n",
       "      <td>1</td>\n",
       "      <td>1</td>\n",
       "      <td>0</td>\n",
       "      <td>NaN</td>\n",
       "      <td>500135914.0</td>\n",
       "    </tr>\n",
       "  </tbody>\n",
       "</table>\n",
       "</div>"
      ],
      "text/plain": [
       "       sp_id  sp_hh_id       serialno     stcotrbg  age  sex  race  sporder  \\\n",
       "0  119493314   1575686  2007000006927  10010204001   49    1     1        2   \n",
       "1  119493315   1575686  2007000006927  10010204001   45    2     1        1   \n",
       "2  119493322   1586030  2007000006927  10010208022    6    2     1        3   \n",
       "3  119493323   1586030  2007000006927  10010208022   49    1     1        2   \n",
       "4  119493324   1586030  2007000006927  10010208022   45    2     1        1   \n",
       "\n",
       "   relate  sp_school_id   sp_work_id  \n",
       "0       1           NaN  500136309.0  \n",
       "1       0           NaN  500143905.0  \n",
       "2       2   450055504.0          NaN  \n",
       "3       1           NaN  500109885.0  \n",
       "4       0           NaN  500135914.0  "
      ]
     },
     "execution_count": 16,
     "metadata": {},
     "output_type": "execute_result"
    }
   ],
   "source": [
    "data.head()"
   ]
  },
  {
   "cell_type": "markdown",
   "metadata": {},
   "source": [
    "sp_id - уникальный идентефикатор человека"
   ]
  },
  {
   "cell_type": "markdown",
   "metadata": {},
   "source": [
    "sp_hh_id - идентификатор жилища человека (у всех людей, живущих в одной квартире(частном доме, ...), он одинаков)"
   ]
  },
  {
   "cell_type": "markdown",
   "metadata": {},
   "source": [
    "sp_school_id - идентификатор школы (пустой у не учащихся)"
   ]
  },
  {
   "cell_type": "markdown",
   "metadata": {},
   "source": [
    "sp_work_id - идентификатор работы (пустой у не работающих)"
   ]
  },
  {
   "cell_type": "markdown",
   "metadata": {},
   "source": [
    "# Параметры"
   ]
  },
  {
   "cell_type": "markdown",
   "metadata": {},
   "source": [
    "Для запуска модели нужно выполнить следующую команду:"
   ]
  },
  {
   "cell_type": "markdown",
   "metadata": {},
   "source": [
    "`./multi_agent_model alpha lmbd InitInfCount duration ./path_to_data.txt ./path_to_result.txt`"
   ]
  },
  {
   "cell_type": "markdown",
   "metadata": {},
   "source": [
    "alpha - доля людей, не восприимчивых к болезни в популяции"
   ]
  },
  {
   "cell_type": "markdown",
   "metadata": {},
   "source": [
    "lmbd - степень заразности вируса"
   ]
  },
  {
   "cell_type": "markdown",
   "metadata": {},
   "source": [
    "InitInfCount - количество первоначально инфицированных"
   ]
  },
  {
   "cell_type": "markdown",
   "metadata": {},
   "source": [
    "duration - длительность моделирования"
   ]
  },
  {
   "cell_type": "markdown",
   "metadata": {},
   "source": [
    "# Выходные данные"
   ]
  },
  {
   "cell_type": "code",
   "execution_count": 21,
   "metadata": {},
   "outputs": [],
   "source": [
    "result = pd.read_csv(\"result.txt\")"
   ]
  },
  {
   "cell_type": "markdown",
   "metadata": {},
   "source": [
    "Выходные данные пердставляют собой количество больных людей в популяции на i-й день"
   ]
  },
  {
   "cell_type": "code",
   "execution_count": 22,
   "metadata": {},
   "outputs": [
    {
     "data": {
      "text/plain": [
       "[]"
      ]
     },
     "execution_count": 22,
     "metadata": {},
     "output_type": "execute_result"
    },
    {
     "data": {
      "image/png": "[encoded data removed]",
      "text/plain": [
       "<Figure size 640x480 with 1 Axes>"
      ]
     },
     "metadata": {},
     "output_type": "display_data"
    }
   ],
   "source": [
    "plt.plot(result)\n",
    "\n",
    "plt.xlabel(\"День\")\n",
    "plt.ylabel(\"Количество заболевших, чел.\")\n",
    "plt.plot()"
   ]
  },
  {
   "cell_type": "markdown",
   "metadata": {},
   "source": [
    "# Зачем это нужно?"
   ]
  },
  {
   "cell_type": "markdown",
   "metadata": {},
   "source": [
    "Представим начало эпидемии, допустим прошло 14 дней, значит на текущий момент у нас есть данные о заболеваемости за это время"
   ]
  },
  {
   "cell_type": "code",
   "execution_count": 25,
   "metadata": {},
   "outputs": [
    {
     "data": {
      "text/plain": [
       "[]"
      ]
     },
     "execution_count": 25,
     "metadata": {},
     "output_type": "execute_result"
    },
    {
     "data": {
      "image/png": "[encoded data removed]",
      "text/plain": [
       "<Figure size 640x480 with 1 Axes>"
      ]
     },
     "metadata": {},
     "output_type": "display_data"
    }
   ],
   "source": [
    "plt.plot(result[:14])\n",
    "\n",
    "plt.xlabel(\"День\")\n",
    "plt.ylabel(\"Количество заболевших, чел.\")\n",
    "plt.title(\"Данные о заболеваемости в начале эпидемии\")\n",
    "plt.plot()"
   ]
  },
  {
   "cell_type": "markdown",
   "metadata": {},
   "source": [
    "Тогда калибруя выход мультиагентной модели на эти данные, можно оценить примерные ее масштабы, верхние и нижние границы заболеваемости"
   ]
  },
  {
   "cell_type": "markdown",
   "metadata": {},
   "source": [
    "Ниже показан пример такой калибровки"
   ]
  },
  {
   "cell_type": "markdown",
   "metadata": {},
   "source": [
    "![Компьютер](exp.jpg)"
   ]
  },
  {
   "cell_type": "markdown",
   "metadata": {},
   "source": [
    "# Алгоритм работы"
   ]
  },
  {
   "cell_type": "markdown",
   "metadata": {},
   "source": [
    "1) проверяется валидность данных в каждой строке\n",
    "2) создается массив людей (для удобства переопределяются id людей так, что у первого человека он равен 1 и далее по порядку)\n",
    "3) создается массив связных списков для домовладений, id домовладений изменяются так, чтобы начинаться с 1 для удобства"
   ]
  },
  {
   "cell_type": "markdown",
   "metadata": {},
   "source": [
    "на i-м месте массива находится связный список, который интерпретируется, как место жительства с id=i, в связном списке находятся все живущие там небольные люди "
   ]
  },
  {
   "cell_type": "markdown",
   "metadata": {},
   "source": [
    "4) такие же массивы связных списков создаются для работ и школ\n",
    "5) случайно выбираются первоначально зараженные и создается связный список больных людей\n",
    "6) происходит одинь день моделирования\n",
    "    1. идет проход по связному списку больных, для каждого\n",
    "        1. в соответствии с днем заболевания по функции Барояна-Рвачева определяется заразность индивида\n",
    "        2. происходит попытка заражения всех контактирующих с ним людей в доме, школе (если учится), работе (если работает)\n",
    "        3. если кто-то заражается, он добаляется в список заболевших и удаляется из всех мест заражения\n",
    "        4. если человек был на 7 дне заболевания, он становится выздоровевшим и невосприимчивым к заболеванию\n",
    "    2. подсчитывается и сохраняется число заболевших за день\n",
    "7) шаг 6 повторяется в количестве дней моделирования"
   ]
  },
  {
   "cell_type": "markdown",
   "metadata": {},
   "source": [
    "(так как это мультиагентная модель гриппа, то смертностью пренебрегаем, в связи с очень маленькими значениями)"
   ]
  }
 ],
 "metadata": {
  "kernelspec": {
   "display_name": ".venv",
   "language": "python",
   "name": "python3"
  },
  "language_info": {
   "codemirror_mode": {
    "name": "ipython",
    "version": 3
   },
   "file_extension": ".py",
   "mimetype": "text/x-python",
   "name": "python",
   "nbconvert_exporter": "python",
   "pygments_lexer": "ipython3",
   "version": "3.12.3"
  }
 },
 "nbformat": 4,
 "nbformat_minor": 2
}
